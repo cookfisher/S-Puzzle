{
 "cells": [
  {
   "cell_type": "code",
   "execution_count": 1,
   "outputs": [],
   "source": [
    "import re\n",
    "import ast\n",
    "from csv import reader\n",
    "def load_inputs(path):\n",
    "    with open('input_puzzles.csv', 'r') as f:\n",
    "        csv_reader = reader(f)\n",
    "        list_rows = list(csv_reader)\n",
    "        for row in list_rows[1:]:\n",
    "            initial = parse_input(row[0].strip())\n",
    "            goal = parse_input(row[1].strip())\n",
    "    return initial, goal\n",
    "\n",
    "def parse_input(x):\n",
    "    x = re.sub('\\(', '[', x)\n",
    "    x = re.sub('\\)', ']', x)\n",
    "    x = re.sub(';', ',', x)\n",
    "    x = ast.literal_eval(x)\n",
    "    return x\n",
    "# path = 'inputs.txt'\n",
    "path = 'input_puzzles.csv'\n",
    "s0, g = load_inputs(path)"
   ],
   "metadata": {
    "collapsed": false,
    "pycharm": {
     "name": "#%%\n"
    }
   }
  },
  {
   "cell_type": "code",
   "execution_count": 2,
   "outputs": [
    {
     "name": "stdout",
     "output_type": "stream",
     "text": [
      "[[6, 1, 2], [7, 8, 3], [5, 4, 9]]\n",
      "[[1, 2, 3], [4, 5, 6], [7, 8, 9]]\n"
     ]
    }
   ],
   "source": [
    "print(s0)\n",
    "print(g)"
   ],
   "metadata": {
    "collapsed": false,
    "pycharm": {
     "name": "#%%\n"
    }
   }
  }
 ],
 "metadata": {
  "kernelspec": {
   "name": "lab_4",
   "language": "python",
   "display_name": "Lab_4"
  },
  "language_info": {
   "codemirror_mode": {
    "name": "ipython",
    "version": 2
   },
   "file_extension": ".py",
   "mimetype": "text/x-python",
   "name": "python",
   "nbconvert_exporter": "python",
   "pygments_lexer": "ipython2",
   "version": "2.7.6"
  }
 },
 "nbformat": 4,
 "nbformat_minor": 0
}