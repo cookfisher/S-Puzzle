{
 "cells": [
  {
   "cell_type": "code",
   "execution_count": 1,
   "outputs": [],
   "source": [
    "import re\n",
    "import ast\n",
    "\n",
    "def load_inputs(path):\n",
    "    with open(path, 'r') as file_obj:\n",
    "        for line in file_obj:\n",
    "            stripped_line = line.strip()\n",
    "            x = re.sub('\\(', '[', stripped_line)\n",
    "            x = re.sub('\\)', ']', x)\n",
    "            x = re.sub(';', ',', x)\n",
    "            x = ast.literal_eval(x)\n",
    "    return x\n",
    "\n",
    "path = 'inputs.txt'\n",
    "s0 = load_inputs(path)"
   ],
   "metadata": {
    "collapsed": false,
    "pycharm": {
     "name": "#%%\n"
    }
   }
  },
  {
   "cell_type": "code",
   "execution_count": 2,
   "outputs": [
    {
     "name": "stdout",
     "output_type": "stream",
     "text": [
      "[[6, 1, 2], [7, 8, 3], [5, 4, 9]]\n"
     ]
    }
   ],
   "source": [
    "print(s0)"
   ],
   "metadata": {
    "collapsed": false,
    "pycharm": {
     "name": "#%%\n"
    }
   }
  }
 ],
 "metadata": {
  "kernelspec": {
   "name": "lab_4",
   "language": "python",
   "display_name": "Lab_4"
  },
  "language_info": {
   "codemirror_mode": {
    "name": "ipython",
    "version": 2
   },
   "file_extension": ".py",
   "mimetype": "text/x-python",
   "name": "python",
   "nbconvert_exporter": "python",
   "pygments_lexer": "ipython2",
   "version": "2.7.6"
  }
 },
 "nbformat": 4,
 "nbformat_minor": 0
}