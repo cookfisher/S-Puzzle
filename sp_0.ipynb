{
 "cells": [
  {
   "cell_type": "code",
   "execution_count": 28,
   "outputs": [],
   "source": [
    "import re\n",
    "import ast\n",
    "from csv import reader\n",
    "def load_inputs(path):\n",
    "    with open('input_puzzles.csv', 'r') as f:\n",
    "        csv_reader = reader(f)\n",
    "        list_rows = list(csv_reader)\n",
    "        for row in list_rows[1:]:\n",
    "            initial = parse_input(row[0].strip())\n",
    "            goal = parse_input(row[1].strip())\n",
    "    return initial, goal\n",
    "\n",
    "def parse_input(x):\n",
    "    x = re.sub('\\(', '[', x)\n",
    "    x = re.sub('\\)', ']', x)\n",
    "    x = re.sub(';', ',', x)\n",
    "    x = ast.literal_eval(x)\n",
    "    return x"
   ],
   "metadata": {
    "collapsed": false,
    "pycharm": {
     "name": "#%%\n"
    }
   }
  },
  {
   "cell_type": "code",
   "execution_count": 29,
   "outputs": [
    {
     "name": "stdout",
     "output_type": "stream",
     "text": [
      "[[6, 1, 2], [7, 8, 3], [5, 4, 9]]\n",
      "[[1, 2, 3], [4, 5, 6], [7, 8, 9]]\n"
     ]
    }
   ],
   "source": [
    "# == test load_inputs() function ===\n",
    "path = 'input_puzzles.csv'\n",
    "s0, g = load_inputs(path)\n",
    "print(s0)\n",
    "print(g)"
   ],
   "metadata": {
    "collapsed": false,
    "pycharm": {
     "name": "#%%\n"
    }
   }
  },
  {
   "cell_type": "code",
   "execution_count": 5,
   "outputs": [],
   "source": [
    "def output_one(f, s):\n",
    "    f.write(\"(\")\n",
    "    for index in range(len(s)):\n",
    "        f.write(\"(\")\n",
    "        for i in range(len(s[index])):\n",
    "            f.write(\"{}\".format(s[index][i]))\n",
    "            if i < len(s[index])-1:\n",
    "                f.write(';')\n",
    "        if index < len(s)-1:\n",
    "            f.write(\");\")\n",
    "        else:\n",
    "            f.write(\")\")\n",
    "    f.write(\")\")\n",
    "\n",
    "def output_all(path, lst):\n",
    "    with open(path, 'w') as file_obj:\n",
    "        for i in range(len(lst)):\n",
    "            output_one(file_obj, lst[i])\n",
    "            if i < len(lst) - 1:\n",
    "                file_obj.write('=>')"
   ],
   "metadata": {
    "collapsed": false,
    "pycharm": {
     "name": "#%%\n"
    }
   }
  },
  {
   "cell_type": "code",
   "execution_count": 6,
   "outputs": [],
   "source": [
    "# == test output_all() function ===\n",
    "path1 = 'outputs.txt'\n",
    "result_list = [s0, g]\n",
    "output_all(path1, result_list)"
   ],
   "metadata": {
    "collapsed": false,
    "pycharm": {
     "name": "#%%\n"
    }
   }
  },
  {
   "cell_type": "code",
   "execution_count": 39,
   "outputs": [],
   "source": [
    "def mv_R(puzzle,r,c):\n",
    "    pz = puzzle.copy()\n",
    "    N = len(puzzle[0])\n",
    "    if c < N-1:\n",
    "        pz[r][c], pz[r][c+1] = pz[r][c+1], pz[r][c]\n",
    "        return pz\n",
    "\n",
    "def mv_D(puzzle,r,c):\n",
    "    pz = puzzle.copy()\n",
    "    N = len(puzzle[0])\n",
    "    if r < N-1:\n",
    "        pz[r][c], pz[r+1][c] = pz[r+1][c], pz[r][c]\n",
    "        return pz\n",
    "\n",
    "def mv_L(puzzle,r,c):\n",
    "    pz = puzzle.copy()\n",
    "    if c > 0:\n",
    "        pz[r][c], pz[r][c-1] = pz[r][c-1], pz[r][c]\n",
    "        return pz\n",
    "\n",
    "def mv_U(puzzle,r,c):\n",
    "    pz = puzzle.copy()\n",
    "    if r > 0:\n",
    "        pz[r][c], pz[r-1][c] = pz[r-1][c], pz[r][c]\n",
    "        return pz"
   ],
   "metadata": {
    "collapsed": false,
    "pycharm": {
     "name": "#%%\n"
    }
   }
  },
  {
   "cell_type": "code",
   "execution_count": 44,
   "outputs": [
    {
     "name": "stdout",
     "output_type": "stream",
     "text": [
      "[[1, 2, 3], [4, 5, 6], [7, 8, 9]]\n",
      "None\n",
      "None\n",
      "[[1, 3, 2], [4, 5, 6], [7, 8, 9]]\n",
      "None\n"
     ]
    }
   ],
   "source": [
    "# == test move function ====\n",
    "ss = [[1, 2, 3], [4, 5, 6], [7, 8, 9]]\n",
    "print(ss)\n",
    "mr = mv_R(ss, 0,2)\n",
    "print(mr)\n",
    "md = mv_D(ss,2,0)\n",
    "print(md)\n",
    "ml = mv_L(ss,0,2)\n",
    "print(ml)\n",
    "mu = mv_U(ss, 0, 1)\n",
    "print(mu)"
   ],
   "metadata": {
    "collapsed": false,
    "pycharm": {
     "name": "#%%\n"
    }
   }
  },
  {
   "cell_type": "code",
   "execution_count": 45,
   "outputs": [],
   "source": [
    "from anytree import Node, RenderTree\n",
    "from anytree.exporter import DotExporter\n",
    "from treelib import Node, Tree"
   ],
   "metadata": {
    "collapsed": false,
    "pycharm": {
     "name": "#%%\n"
    }
   }
  },
  {
   "cell_type": "code",
   "execution_count": 46,
   "outputs": [
    {
     "name": "stdout",
     "output_type": "stream",
     "text": [
      "CEO\n",
      "├── VP_1\n",
      "│   └── GM_1\n",
      "└── VP_2\n",
      "    └── GM_2\n",
      "\n"
     ]
    }
   ],
   "source": [
    "tree = Tree()\n",
    "tree.create_node(\"CEO\",\"CEO\") #root\n",
    "tree.create_node(\"VP_1\",\"VP_1\",parent=\"CEO\" )\n",
    "tree.create_node(\"VP_2\",\"VP_2\",parent=\"CEO\" )\n",
    "tree.create_node(\"GM_1\",\"GM_1\",parent=\"VP_1\" )\n",
    "tree.create_node(\"GM_2\",\"GM_2\",parent=\"VP_2\" )\n",
    "tree.show()"
   ],
   "metadata": {
    "collapsed": false,
    "pycharm": {
     "name": "#%%\n"
    }
   }
  },
  {
   "cell_type": "code",
   "execution_count": null,
   "outputs": [],
   "source": [
    "class Node_:\n",
    "    def __init__(self, puzzle, parent, depth, heuristic):\n",
    "        self.puzzle = puzzle\n",
    "        self.parent = parent\n",
    "        self.depth = depth\n",
    "        self.heuristic = heuristic"
   ],
   "metadata": {
    "collapsed": false,
    "pycharm": {
     "name": "#%%\n"
    }
   }
  }
 ],
 "metadata": {
  "kernelspec": {
   "name": "lab_4",
   "language": "python",
   "display_name": "Lab_4"
  },
  "language_info": {
   "codemirror_mode": {
    "name": "ipython",
    "version": 2
   },
   "file_extension": ".py",
   "mimetype": "text/x-python",
   "name": "python",
   "nbconvert_exporter": "python",
   "pygments_lexer": "ipython2",
   "version": "2.7.6"
  }
 },
 "nbformat": 4,
 "nbformat_minor": 0
}