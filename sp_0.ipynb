{
 "cells": [
  {
   "cell_type": "code",
   "execution_count": 2,
   "outputs": [],
   "source": [
    "import re\n",
    "import ast\n",
    "from csv import reader\n",
    "def load_inputs(path):\n",
    "    with open('input_puzzles.csv', 'r') as f:\n",
    "        csv_reader = reader(f)\n",
    "        list_rows = list(csv_reader)\n",
    "        input_list = []\n",
    "        for row in list_rows[1:]:\n",
    "            initial = parse_input(row[0].strip())\n",
    "            goal = parse_input(row[1].strip())\n",
    "            t = [initial, goal]\n",
    "            input_list.append(t)\n",
    "    return input_list\n",
    "\n",
    "def parse_input(x):\n",
    "    x = re.sub('\\(', '[', x)\n",
    "    x = re.sub('\\)', ']', x)\n",
    "    x = re.sub(';', ',', x)\n",
    "    x = ast.literal_eval(x)\n",
    "    return x\n",
    "\n",
    "def load_puzzles(path):\n",
    "    with open('input_puzzles_only.csv', 'r') as f:\n",
    "        csv_reader = reader(f)\n",
    "        list_rows = list(csv_reader)\n",
    "        input_list = []\n",
    "        for row in list_rows[1:]:\n",
    "            initial = parse_input(row[0].strip())\n",
    "            input_list.append(initial)\n",
    "    return input_list"
   ],
   "metadata": {
    "collapsed": false,
    "pycharm": {
     "name": "#%%\n"
    }
   }
  },
  {
   "cell_type": "code",
   "execution_count": 26,
   "outputs": [
    {
     "name": "stdout",
     "output_type": "stream",
     "text": [
      "[[6, 1, 2], [7, 3, 8], [5, 4, 9]]\n",
      "[[1, 2, 3], [4, 5, 6], [7, 8, 9]]\n"
     ]
    }
   ],
   "source": [
    "# == test load_inputs() function ===\n",
    "path = 'input_puzzles.csv'\n",
    "input_pzs = load_inputs(path)\n",
    "s0, g = input_pzs[5]\n",
    "print(s0)\n",
    "print(g)"
   ],
   "metadata": {
    "collapsed": false,
    "pycharm": {
     "name": "#%%\n"
    }
   }
  },
  {
   "cell_type": "code",
   "execution_count": 5,
   "outputs": [
    {
     "name": "stdout",
     "output_type": "stream",
     "text": [
      "[[6, 1, 2], [7, 3, 8], [5, 4, 9]]\n"
     ]
    }
   ],
   "source": [
    "# == test load_puzzles() function ===\n",
    "path = 'input_puzzles_only.csv'\n",
    "list_inputs = load_puzzles(path)\n",
    "s0 = list_inputs[5]\n",
    "print(s0)"
   ],
   "metadata": {
    "collapsed": false,
    "pycharm": {
     "name": "#%%\n"
    }
   }
  },
  {
   "cell_type": "code",
   "execution_count": 3,
   "outputs": [],
   "source": [
    "def output_one(f, s):\n",
    "    f.write(\"(\")\n",
    "    for index in range(len(s)):\n",
    "        f.write(\"(\")\n",
    "        for i in range(len(s[index])):\n",
    "            f.write(\"{}\".format(s[index][i]))\n",
    "            if i < len(s[index])-1:\n",
    "                f.write(';')\n",
    "        if index < len(s)-1:\n",
    "            f.write(\");\")\n",
    "        else:\n",
    "            f.write(\")\")\n",
    "    f.write(\")\")\n",
    "\n",
    "def output_all(path, lst):\n",
    "    with open(path, 'w') as file_obj:\n",
    "        for i in range(len(lst)):\n",
    "            output_one(file_obj, lst[i])\n",
    "            if i < len(lst) - 1:\n",
    "                file_obj.write('=>')"
   ],
   "metadata": {
    "collapsed": false,
    "pycharm": {
     "name": "#%%\n"
    }
   }
  },
  {
   "cell_type": "code",
   "execution_count": 4,
   "outputs": [],
   "source": [
    "# == test output_all() function ===\n",
    "path1 = 'outputs.txt'\n",
    "result_list = [s0, g]\n",
    "output_all(path1, result_list)"
   ],
   "metadata": {
    "collapsed": false,
    "pycharm": {
     "name": "#%%\n"
    }
   }
  },
  {
   "cell_type": "code",
   "execution_count": 1,
   "outputs": [],
   "source": [
    "def mv_R(puzzle,r,c):\n",
    "    pz = puzzle.copy()\n",
    "    N = len(puzzle[0])\n",
    "    if c < N-1:\n",
    "        pz[r][c], pz[r][c+1] = pz[r][c+1], pz[r][c]\n",
    "        return pz\n",
    "\n",
    "def mv_D(puzzle,r,c):\n",
    "    pz = puzzle.copy()\n",
    "    N = len(puzzle[0])\n",
    "    if r < N-1:\n",
    "        pz[r][c], pz[r+1][c] = pz[r+1][c], pz[r][c]\n",
    "        return pz\n",
    "\n",
    "def mv_L(puzzle,r,c):\n",
    "    pz = puzzle.copy()\n",
    "    if c > 0:\n",
    "        pz[r][c], pz[r][c-1] = pz[r][c-1], pz[r][c]\n",
    "        return pz\n",
    "\n",
    "def mv_U(puzzle,r,c):\n",
    "    pz = puzzle.copy()\n",
    "    if r > 0:\n",
    "        pz[r][c], pz[r-1][c] = pz[r-1][c], pz[r][c]\n",
    "        return pz"
   ],
   "metadata": {
    "collapsed": false,
    "pycharm": {
     "name": "#%%\n"
    }
   }
  },
  {
   "cell_type": "code",
   "execution_count": 44,
   "outputs": [
    {
     "name": "stdout",
     "output_type": "stream",
     "text": [
      "[[1, 2, 3], [4, 5, 6], [7, 8, 9]]\n",
      "None\n",
      "None\n",
      "[[1, 3, 2], [4, 5, 6], [7, 8, 9]]\n",
      "None\n"
     ]
    }
   ],
   "source": [
    "# == test move function ====\n",
    "ss = [[1, 2, 3], [4, 5, 6], [7, 8, 9]]\n",
    "print(ss)\n",
    "mr = mv_R(ss, 0,2)\n",
    "print(mr)\n",
    "md = mv_D(ss,2,0)\n",
    "print(md)\n",
    "ml = mv_L(ss,0,2)\n",
    "print(ml)\n",
    "mu = mv_U(ss, 0, 1)\n",
    "print(mu)"
   ],
   "metadata": {
    "collapsed": false,
    "pycharm": {
     "name": "#%%\n"
    }
   }
  },
  {
   "cell_type": "code",
   "execution_count": 45,
   "outputs": [],
   "source": [
    "from anytree import Node, RenderTree\n",
    "from anytree.exporter import DotExporter\n",
    "from treelib import Node, Tree"
   ],
   "metadata": {
    "collapsed": false,
    "pycharm": {
     "name": "#%%\n"
    }
   }
  },
  {
   "cell_type": "code",
   "execution_count": 46,
   "outputs": [
    {
     "name": "stdout",
     "output_type": "stream",
     "text": [
      "CEO\n",
      "├── VP_1\n",
      "│   └── GM_1\n",
      "└── VP_2\n",
      "    └── GM_2\n",
      "\n"
     ]
    }
   ],
   "source": [
    "tree = Tree()\n",
    "tree.create_node(\"CEO\",\"CEO\") #root\n",
    "tree.create_node(\"VP_1\",\"VP_1\",parent=\"CEO\" )\n",
    "tree.create_node(\"VP_2\",\"VP_2\",parent=\"CEO\" )\n",
    "tree.create_node(\"GM_1\",\"GM_1\",parent=\"VP_1\" )\n",
    "tree.create_node(\"GM_2\",\"GM_2\",parent=\"VP_2\" )\n",
    "tree.show()"
   ],
   "metadata": {
    "collapsed": false,
    "pycharm": {
     "name": "#%%\n"
    }
   }
  },
  {
   "cell_type": "code",
   "execution_count": 2,
   "outputs": [],
   "source": [
    "import time\n",
    "class Node_:\n",
    "    def __init__(self, puzzle, parent, depth, heuristic):\n",
    "        self.puzzle = puzzle\n",
    "        self.parent = parent\n",
    "        self.depth = depth\n",
    "        self.heuristic = heuristic\n",
    "\n",
    "def create_node(puzzle, parent, depth, heuristic):\n",
    "    return Node_(puzzle, parent, depth, heuristic)"
   ],
   "metadata": {
    "collapsed": false,
    "pycharm": {
     "name": "#%%\n"
    }
   }
  },
  {
   "cell_type": "code",
   "execution_count": 3,
   "outputs": [],
   "source": [
    "def findChildNodes(parent_node):\n",
    "    puzzle = parent_node.puzzle\n",
    "    rows = len(puzzle)\n",
    "    columns = len(puzzle[0])\n",
    "    child_nodes = []\n",
    "    for row in range(rows):\n",
    "        for column in range(columns):\n",
    "            child_node = create_node(mv_U(puzzle, row, column), parent_node, parent_node.depth + 1, 0)\n",
    "            child_nodes.append(child_node)\n",
    "            child_node = create_node(mv_D(puzzle, row, column), parent_node, parent_node.depth + 1, 0)\n",
    "            child_nodes.append(child_node)\n",
    "            child_node = create_node(mv_L(puzzle, row, column), parent_node, parent_node.depth + 1, 0)\n",
    "            child_nodes.append(child_node)\n",
    "            child_node = create_node(mv_R(puzzle, row, column), parent_node, parent_node.depth + 1, 0)\n",
    "            child_nodes.append(child_node)\n",
    "    child_nodes = [node for node in child_nodes if node.puzzle is not None]\n",
    "    print(\"Total\", len(child_nodes), \"possibilities\")\n",
    "    return child_nodes"
   ],
   "metadata": {
    "collapsed": false,
    "pycharm": {
     "name": "#%%\n"
    }
   }
  },
  {
   "cell_type": "code",
   "execution_count": 4,
   "outputs": [],
   "source": [
    "def isSamePuzzle(s, g):\n",
    "    for i in range(len(s)):\n",
    "        for j in range(len(s[0])):\n",
    "            if s[i][j] != g[i][j]:\n",
    "                return False\n",
    "    return True"
   ],
   "metadata": {
    "collapsed": false,
    "pycharm": {
     "name": "#%%\n"
    }
   }
  },
  {
   "cell_type": "code",
   "execution_count": 5,
   "outputs": [],
   "source": [
    "def isSameNode(n1, n2):\n",
    "    return isSamePuzzle(n1.puzzle, n2.puzzle)"
   ],
   "metadata": {
    "collapsed": false,
    "pycharm": {
     "name": "#%%\n"
    }
   }
  },
  {
   "cell_type": "code",
   "execution_count": 6,
   "outputs": [],
   "source": [
    "def DFS(start, goal):\n",
    "    openList = []\n",
    "    closeList = []\n",
    "    depth_limit = 100\n",
    "    start_node = create_node(start,None,0,0)\n",
    "    openList.append(start_node)\n",
    "    start_time = time.time()\n",
    "    while len(openList) > 0:\n",
    "        elapsed_time = time.time() - start_time\n",
    "        if elapsed_time < 60000:\n",
    "            # get left most node\n",
    "            current_node = openList.pop(0)\n",
    "            if isSamePuzzle(current_node.puzzle, goal):\n",
    "                print(current_node.puzzle)\n",
    "                temp = current_node\n",
    "                print(temp.depth)\n",
    "                return 'Find solution'\n",
    "            else:\n",
    "                child_nodes = findChildNodes(current_node)\n",
    "                closeList.append(current_node)\n",
    "                # discard child node if already in open or close list\n",
    "                for node in child_nodes:\n",
    "                    if node.depth > depth_limit:\n",
    "                        return 'No solution: exceed depth limit'\n",
    "                    if len(openList) > 0:\n",
    "                        for n1 in openList:\n",
    "                            if isSameNode(n1, node):\n",
    "                                child_nodes.remove(node)\n",
    "                                break\n",
    "                for node in child_nodes:\n",
    "                    for n2 in closeList:\n",
    "                        if isSameNode(n2, node):\n",
    "                            child_nodes.remove(node)\n",
    "                            break\n",
    "                    openList.insert(1, node)\n",
    "                child_nodes = [nd for nd in child_nodes if nd is not None]\n",
    "        else:\n",
    "            return 'No solutions: over time'\n",
    "\n"
   ],
   "metadata": {
    "collapsed": false,
    "pycharm": {
     "name": "#%%\n"
    }
   }
  },
  {
   "cell_type": "code",
   "execution_count": 15,
   "outputs": [],
   "source": [
    "import itertools\n",
    "def index_2d(list, v):\n",
    "    for i, x in enumerate(list):\n",
    "        if v in x:\n",
    "            return i, x.index(v)\n",
    "\n",
    "def in_good_position(x, g, v):\n",
    "    r, c = index_2d(x, v)\n",
    "    r_g, c_g = index_2d(g, v)\n",
    "    return r == r_g and c == c_g"
   ],
   "metadata": {
    "collapsed": false,
    "pycharm": {
     "name": "#%%\n"
    }
   }
  },
  {
   "cell_type": "code",
   "execution_count": 8,
   "outputs": [],
   "source": [
    "def DFS_1(start, goal):\n",
    "    openList = []\n",
    "    closeList = []\n",
    "    depth_limit = 100\n",
    "    start_node = create_node(start,None,0,0)\n",
    "    openList.append(start_node)\n",
    "    start_time = time.time()\n",
    "    while len(openList) > 0:\n",
    "        elapsed_time = time.time() - start_time\n",
    "        if elapsed_time < 60000:\n",
    "            # get left most node\n",
    "            current_node = openList.pop(0)\n",
    "            if isSamePuzzle(current_node.puzzle, goal):\n",
    "                print(current_node.puzzle)\n",
    "                temp = current_node\n",
    "                print(temp.depth)\n",
    "                return 'Find solution'\n",
    "            else:\n",
    "                for v in list(itertools.chain.from_iterable(goal)):\n",
    "                    if in_good_position(current_node.puzzle, goal, v):\n",
    "                        continue\n",
    "                    else:\n",
    "                        pass\n",
    "                    #TODO: add child nodes in openList\n",
    "                    \n",
    "\n",
    "\n",
    "\n",
    "        else:\n",
    "            return 'No solutions: time exceed limit'"
   ],
   "metadata": {
    "collapsed": false,
    "pycharm": {
     "name": "#%%\n"
    }
   }
  },
  {
   "cell_type": "code",
   "execution_count": 19,
   "outputs": [
    {
     "data": {
      "text/plain": "[2, 1, 3, 4, 5, 6, 7, 8, 9]"
     },
     "execution_count": 19,
     "metadata": {},
     "output_type": "execute_result"
    }
   ],
   "source": [
    "s0 = [[6, 1, 2], [7, 8, 3], [5, 4, 9]]\n",
    "g1 = [[2, 1, 3], [4, 5, 6], [7, 8, 9]]\n",
    "g2 = [[1, 2, 3], [4, 5, 6], [7, 8, 9]]\n",
    "g = [[1, 2, 3], [4, 5, 6], [7, 8, 9]]\n",
    "# DFS_1(g2, g)\n",
    "r, c = index_2d(g2, 8)\n",
    "list(itertools.chain.from_iterable(g1))"
   ],
   "metadata": {
    "collapsed": false,
    "pycharm": {
     "name": "#%%\n"
    }
   }
  }
 ],
 "metadata": {
  "kernelspec": {
   "name": "lab_4",
   "language": "python",
   "display_name": "Lab_4"
  },
  "language_info": {
   "codemirror_mode": {
    "name": "ipython",
    "version": 2
   },
   "file_extension": ".py",
   "mimetype": "text/x-python",
   "name": "python",
   "nbconvert_exporter": "python",
   "pygments_lexer": "ipython2",
   "version": "2.7.6"
  }
 },
 "nbformat": 4,
 "nbformat_minor": 0
}