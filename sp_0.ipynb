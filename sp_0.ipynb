{
 "cells": [
  {
   "cell_type": "code",
   "execution_count": 3,
   "outputs": [],
   "source": [
    "import re\n",
    "import ast\n",
    "from csv import reader\n",
    "def load_inputs(path):\n",
    "    with open('input_puzzles.csv', 'r') as f:\n",
    "        csv_reader = reader(f)\n",
    "        list_rows = list(csv_reader)\n",
    "        for row in list_rows[1:]:\n",
    "            initial = parse_input(row[0].strip())\n",
    "            goal = parse_input(row[1].strip())\n",
    "    return initial, goal\n",
    "\n",
    "def parse_input(x):\n",
    "    x = re.sub('\\(', '[', x)\n",
    "    x = re.sub('\\)', ']', x)\n",
    "    x = re.sub(';', ',', x)\n",
    "    x = ast.literal_eval(x)\n",
    "    return x"
   ],
   "metadata": {
    "collapsed": false,
    "pycharm": {
     "name": "#%%\n"
    }
   }
  },
  {
   "cell_type": "code",
   "execution_count": 4,
   "outputs": [
    {
     "name": "stdout",
     "output_type": "stream",
     "text": [
      "[[6, 1, 2], [7, 8, 3], [5, 4, 9]]\n",
      "[[1, 2, 3], [4, 5, 6], [7, 8, 9]]\n"
     ]
    }
   ],
   "source": [
    "# == test load_inputs() function ===\n",
    "path = 'input_puzzles.csv'\n",
    "s0, g = load_inputs(path)\n",
    "print(s0)\n",
    "print(g)"
   ],
   "metadata": {
    "collapsed": false,
    "pycharm": {
     "name": "#%%\n"
    }
   }
  },
  {
   "cell_type": "code",
   "execution_count": 5,
   "outputs": [],
   "source": [
    "def output_one(f, s):\n",
    "    f.write(\"(\")\n",
    "    for index in range(len(s)):\n",
    "        f.write(\"(\")\n",
    "        for i in range(len(s[index])):\n",
    "            f.write(\"{}\".format(s[index][i]))\n",
    "            if i < len(s[index])-1:\n",
    "                f.write(';')\n",
    "        if index < len(s)-1:\n",
    "            f.write(\");\")\n",
    "        else:\n",
    "            f.write(\")\")\n",
    "    f.write(\")\")\n",
    "\n",
    "def output_all(path, lst):\n",
    "    with open(path, 'w') as file_obj:\n",
    "        for i in range(len(lst)):\n",
    "            output_one(file_obj, lst[i])\n",
    "            if i < len(lst) - 1:\n",
    "                file_obj.write('=>')"
   ],
   "metadata": {
    "collapsed": false,
    "pycharm": {
     "name": "#%%\n"
    }
   }
  },
  {
   "cell_type": "code",
   "execution_count": 6,
   "outputs": [],
   "source": [
    "# == test output_all() function ===\n",
    "path1 = 'outputs.txt'\n",
    "result_list = [s0, g]\n",
    "output_all(path1, result_list)"
   ],
   "metadata": {
    "collapsed": false,
    "pycharm": {
     "name": "#%%\n"
    }
   }
  }
 ],
 "metadata": {
  "kernelspec": {
   "name": "lab_4",
   "language": "python",
   "display_name": "Lab_4"
  },
  "language_info": {
   "codemirror_mode": {
    "name": "ipython",
    "version": 2
   },
   "file_extension": ".py",
   "mimetype": "text/x-python",
   "name": "python",
   "nbconvert_exporter": "python",
   "pygments_lexer": "ipython2",
   "version": "2.7.6"
  }
 },
 "nbformat": 4,
 "nbformat_minor": 0
}